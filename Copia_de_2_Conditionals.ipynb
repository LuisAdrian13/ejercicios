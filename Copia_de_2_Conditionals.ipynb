{
  "nbformat": 4,
  "nbformat_minor": 0,
  "metadata": {
    "colab": {
      "provenance": [],
      "include_colab_link": true
    },
    "kernelspec": {
      "name": "python3",
      "display_name": "Python 3"
    },
    "language_info": {
      "name": "python"
    }
  },
  "cells": [
    {
      "cell_type": "markdown",
      "metadata": {
        "id": "view-in-github",
        "colab_type": "text"
      },
      "source": [
        "<a href=\"https://colab.research.google.com/github/LuisAdrian13/ejercicios/blob/main/Copia_de_2_Conditionals.ipynb\" target=\"_parent\"><img src=\"https://colab.research.google.com/assets/colab-badge.svg\" alt=\"Open In Colab\"/></a>"
      ]
    },
    {
      "cell_type": "markdown",
      "source": [
        "# Conditionals"
      ],
      "metadata": {
        "id": "VTg9sEC1C3SO"
      }
    },
    {
      "cell_type": "markdown",
      "source": [
        "\n",
        "## Exercises:\n",
        "\n",
        "1. In order to pay a certain tax, you must be over 16 years old and have a monthly income equal to or greater than €1000. Write a program that asks the user for their age and monthly income, and displays whether the user has to pay the tax or not.\n",
        "\n",
        "\n",
        "2. The Bella Napoli pizzeria offers vegetarian and non-vegetarian pizzas to its customers. The ingredients for each type of pizza are as follows:\n",
        "\n",
        "Vegetarian ingredients: Bell peppers and tofu.\n",
        "\n",
        "Non-vegetarian ingredients: Pepperoni, Ham, and Salmon.\n",
        "\n",
        "Write a program that asks the user if they want a vegetarian pizza or not, and based on their response, displays a menu with the available ingredients for them to choose from. Only one additional ingredient can be chosen besides the mozzarella and tomato, which are included in all pizzas. Finally, the program should display whether the chosen pizza is vegetarian or not, along with all the ingredients it contains."
      ],
      "metadata": {
        "id": "fO1RHJGAiIp2"
      }
    },
    {
      "cell_type": "markdown",
      "source": [
        "Developed by:\n",
        "\n",
        "- Luis Adrián Mojocó Patiño - lmojoco@unal.edu.co\n"
      ],
      "metadata": {
        "id": "QQg2r04O174w"
      }
    },
    {
      "cell_type": "code",
      "source": [
        "a = int(input (\"ingresa tu edad\"))\n",
        "b = float(input(\"ingresa tus ingresos mensuales\"))\n",
        "a > 16\n",
        "b > 1000\n",
        "\n",
        "if a and b:\n",
        "  print(\"tienes que pagar el impuesto\")\n",
        "else:\n",
        "  print(\"no tienes que pagar\")"
      ],
      "metadata": {
        "id": "KIWL9EGb7SIR",
        "outputId": "4481da85-e033-4494-c593-60644223dde5",
        "colab": {
          "base_uri": "https://localhost:8080/"
        }
      },
      "execution_count": null,
      "outputs": [
        {
          "output_type": "stream",
          "name": "stdout",
          "text": [
            "ingresa tu edad23\n",
            "ingresa tus ingresos mensuales230000\n",
            "tienes que pagar el impusto de 1000 euros\n"
          ]
        }
      ]
    },
    {
      "cell_type": "code",
      "source": [
        "a = input(\"ingrese si quieres una pizza vegetariana o no vegetariana \")\n",
        "if a == \"vegetariana\":\n",
        "  print(\"los ingredientes son pimientos y tofu\")\n",
        "else:\n",
        "  print(\"los ingredientes son peperini, jamon y salmon\")\n",
        "\n",
        "ingredientes = input(\"que ingrediente quieres\")\n",
        "\n",
        "print(f\"su pizza es {a} y contiene mosarela, tomate y {ingredientes} \")"
      ],
      "metadata": {
        "id": "OeoEsvOVtCBm",
        "outputId": "2358fdba-9a03-4164-96de-405f16432a01",
        "colab": {
          "base_uri": "https://localhost:8080/"
        }
      },
      "execution_count": null,
      "outputs": [
        {
          "output_type": "stream",
          "name": "stdout",
          "text": [
            "ingrese si quieres una pizza vegetariana o no vegetariana no vegetariana\n",
            "los ingredientes son peperini, jamon y salmon\n",
            "que ingrediente quieressalmon\n",
            "su pizza es no vegetariana y contiene mosarela, tomate y salmon \n"
          ]
        }
      ]
    }
  ]
}