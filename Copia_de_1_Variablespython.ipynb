{
  "nbformat": 4,
  "nbformat_minor": 0,
  "metadata": {
    "colab": {
      "provenance": [],
      "include_colab_link": true
    },
    "kernelspec": {
      "name": "python3",
      "display_name": "Python 3"
    },
    "language_info": {
      "name": "python"
    }
  },
  "cells": [
    {
      "cell_type": "markdown",
      "metadata": {
        "id": "view-in-github",
        "colab_type": "text"
      },
      "source": [
        "<a href=\"https://colab.research.google.com/github/LuisAdrian13/ejercicios/blob/main/Copia_de_1_Variablespython.ipynb\" target=\"_parent\"><img src=\"https://colab.research.google.com/assets/colab-badge.svg\" alt=\"Open In Colab\"/></a>"
      ]
    },
    {
      "cell_type": "markdown",
      "source": [
        "\n",
        "#Introduction to Python Notebooks - Google Colab\n",
        "\n",
        "\n",
        "\n"
      ],
      "metadata": {
        "id": "CY3REa3O8ldU"
      }
    },
    {
      "cell_type": "markdown",
      "source": [
        "## Exercises"
      ],
      "metadata": {
        "id": "fe0JX6B0TEjG"
      }
    },
    {
      "cell_type": "markdown",
      "source": [
        "\n",
        "1. Write a program that displays the result of the following arithmetic operation on the screen: $x(t) = \\left(\\frac{3+2}{2.5}\\right)^2$\n",
        "\n",
        "2. Write a program that asks the user for the number of hours worked and the hourly rate. Then, it should display on the screen the corresponding payment.\n",
        "\n",
        "3. Write a program that asks the user for their weight (in kg) and height (in meters), calculates the body mass index (BMI), stores it in a variable, and displays the message \"Your body mass index is imc\" on the screen, where imc is the calculated BMI rounded to two decimal places."
      ],
      "metadata": {
        "id": "96blkWptzDmu"
      }
    },
    {
      "cell_type": "markdown",
      "source": [
        "Developed by:\n",
        "\n",
        "- Luis Adrián Mojocó Patiño - lmojoco@unal.edu.co\n",
        
      ],
      "metadata": {
        "id": "pwWLNV4zz5di"
      }
    },
    {
      "cell_type": "code",
      "source": [
        "x=((3+2)/(2.5))**(2)\n",
        "x\n",
        "\n",
        "\n"
      ],
      "metadata": {
        "id": "DYIs5bv57aMv",
        "outputId": "a8694d4f-76c4-4b32-985a-ee38e3574b01",
        "colab": {
          "base_uri": "https://localhost:8080/"
        }
      },
      "execution_count": null,
      "outputs": [
        {
          "name": "stdout",
          "output_type": "stream",
          "text": [
            "write the number of hours worked 10\n"
          ]
        }
      ]
    },
    {
      "cell_type": "code",
      "source": [
        "y = int(input(\"write the number of hours worked \"))\n",
        "h = 10000 # valor de la hora\n",
        "x = y*h\n",
        "print(f\"su sueldo es de {x}\")\n"
      ],
      "metadata": {
        "id": "a8Z2JXlngC-O",
        "colab": {
          "base_uri": "https://localhost:8080/"
        },
        "outputId": "f6aa8c9e-e95e-42a6-bab8-5a41b9d4b7f5"
      },
      "execution_count": null,
      "outputs": [
        {
          "output_type": "stream",
          "name": "stdout",
          "text": [
            "write the number of hours worked 10\n",
            "su sueldo es de 100000\n"
          ]
        }
      ]
    },
    {
      "cell_type": "code",
      "source": [
        "p = float(input(\"Por favor, ingrese su peso en kilogramos: \"))\n",
        "a = float(input(\"Por favor, ingrese su altura en metros: \"))\n",
        "\n",
        "\n",
        "imc = p / (a**2)\n",
        "\n",
        "imcre = round(imc, 2)\n",
        "\n",
        "print(f\"Su índice de masa corporal es {imcre}\")\n"
      ],
      "metadata": {
        "id": "Q-9a8VPgOulB"
      },
      "execution_count": null,
      "outputs": []
    }
  ]
}
